{
 "cells": [
  {
   "cell_type": "markdown",
   "metadata": {},
   "source": [
    "Experiment with spiral shape galaxy data synthesis"
   ]
  },
  {
   "cell_type": "code",
   "execution_count": null,
   "metadata": {
    "vscode": {
     "languageId": "plaintext"
    }
   },
   "outputs": [],
   "source": [
    "import numpy as np\n",
    "import matplotlib.pyplot as plt\n",
    "\n",
    "# Load the .npy file\n",
    "data = np.load('')\n",
    "\n",
    "# Display the data\n",
    "plt.imshow(data)\n",
    "plt.colorbar()\n",
    "plt.show()"
   ]
  },
  {
   "cell_type": "code",
   "execution_count": 1,
   "metadata": {},
   "outputs": [
    {
     "name": "stdout",
     "output_type": "stream",
     "text": [
      "Requirement already satisfied: ipykernel in /baie/nfs-cluster-1/mundus/wketrungs511/.local/lib/python3.9/site-packages (6.22.0)\n",
      "Requirement already satisfied: pyzmq>=20 in /baie/nfs-cluster-1/mundus/wketrungs511/.local/lib/python3.9/site-packages (from ipykernel) (25.0.2)\n",
      "Requirement already satisfied: jupyter-core!=5.0.*,>=4.12 in /baie/nfs-cluster-1/mundus/wketrungs511/.local/lib/python3.9/site-packages (from ipykernel) (5.3.0)\n",
      "Requirement already satisfied: debugpy>=1.6.5 in /baie/nfs-cluster-1/mundus/wketrungs511/.local/lib/python3.9/site-packages (from ipykernel) (1.6.6)\n",
      "Requirement already satisfied: ipython>=7.23.1 in /baie/nfs-cluster-1/mundus/wketrungs511/.local/lib/python3.9/site-packages (from ipykernel) (8.12.0)\n",
      "Requirement already satisfied: matplotlib-inline>=0.1 in /baie/nfs-cluster-1/mundus/wketrungs511/.local/lib/python3.9/site-packages (from ipykernel) (0.1.6)\n",
      "Requirement already satisfied: nest-asyncio in /baie/nfs-cluster-1/mundus/wketrungs511/.local/lib/python3.9/site-packages (from ipykernel) (1.5.6)\n",
      "Requirement already satisfied: tornado>=6.1 in /baie/nfs-cluster-1/mundus/wketrungs511/.local/lib/python3.9/site-packages (from ipykernel) (6.2)\n",
      "Requirement already satisfied: packaging in /baie/nfs-cluster-1/mundus/wketrungs511/.local/lib/python3.9/site-packages (from ipykernel) (23.0)\n",
      "Requirement already satisfied: comm>=0.1.1 in /baie/nfs-cluster-1/mundus/wketrungs511/.local/lib/python3.9/site-packages (from ipykernel) (0.1.3)\n",
      "Requirement already satisfied: traitlets>=5.4.0 in /baie/nfs-cluster-1/mundus/wketrungs511/.local/lib/python3.9/site-packages (from ipykernel) (5.9.0)\n",
      "Requirement already satisfied: jupyter-client>=6.1.12 in /baie/nfs-cluster-1/mundus/wketrungs511/.local/lib/python3.9/site-packages (from ipykernel) (8.1.0)\n",
      "Requirement already satisfied: psutil in /baie/nfs-cluster-1/mundus/wketrungs511/.local/lib/python3.9/site-packages (from ipykernel) (5.9.4)\n",
      "Requirement already satisfied: pexpect>4.3 in /baie/nfs-cluster-1/mundus/wketrungs511/.local/lib/python3.9/site-packages (from ipython>=7.23.1->ipykernel) (4.8.0)\n",
      "Requirement already satisfied: stack-data in /baie/nfs-cluster-1/mundus/wketrungs511/.local/lib/python3.9/site-packages (from ipython>=7.23.1->ipykernel) (0.6.2)\n",
      "Requirement already satisfied: jedi>=0.16 in /baie/nfs-cluster-1/mundus/wketrungs511/.local/lib/python3.9/site-packages (from ipython>=7.23.1->ipykernel) (0.18.2)\n",
      "Requirement already satisfied: decorator in /baie/nfs-cluster-1/mundus/wketrungs511/.local/lib/python3.9/site-packages (from ipython>=7.23.1->ipykernel) (5.1.1)\n",
      "Requirement already satisfied: pickleshare in /baie/nfs-cluster-1/mundus/wketrungs511/.local/lib/python3.9/site-packages (from ipython>=7.23.1->ipykernel) (0.7.5)\n",
      "Requirement already satisfied: typing-extensions in /baie/nfs-cluster-1/mundus/wketrungs511/.local/lib/python3.9/site-packages (from ipython>=7.23.1->ipykernel) (4.5.0)\n",
      "Requirement already satisfied: prompt-toolkit!=3.0.37,<3.1.0,>=3.0.30 in /baie/nfs-cluster-1/mundus/wketrungs511/.local/lib/python3.9/site-packages (from ipython>=7.23.1->ipykernel) (3.0.38)\n",
      "Requirement already satisfied: pygments>=2.4.0 in /baie/nfs-cluster-1/mundus/wketrungs511/.local/lib/python3.9/site-packages (from ipython>=7.23.1->ipykernel) (2.14.0)\n",
      "Requirement already satisfied: backcall in /baie/nfs-cluster-1/mundus/wketrungs511/.local/lib/python3.9/site-packages (from ipython>=7.23.1->ipykernel) (0.2.0)\n",
      "Requirement already satisfied: parso<0.9.0,>=0.8.0 in /baie/nfs-cluster-1/mundus/wketrungs511/.local/lib/python3.9/site-packages (from jedi>=0.16->ipython>=7.23.1->ipykernel) (0.8.3)\n",
      "Requirement already satisfied: python-dateutil>=2.8.2 in /baie/nfs-cluster-1/mundus/wketrungs511/.local/lib/python3.9/site-packages (from jupyter-client>=6.1.12->ipykernel) (2.8.2)\n",
      "Requirement already satisfied: importlib-metadata>=4.8.3 in /baie/nfs-cluster-1/mundus/wketrungs511/.local/lib/python3.9/site-packages (from jupyter-client>=6.1.12->ipykernel) (6.1.0)\n",
      "Requirement already satisfied: zipp>=0.5 in /baie/nfs-cluster-1/mundus/wketrungs511/.local/lib/python3.9/site-packages (from importlib-metadata>=4.8.3->jupyter-client>=6.1.12->ipykernel) (3.15.0)\n",
      "Requirement already satisfied: platformdirs>=2.5 in /baie/nfs-cluster-1/mundus/wketrungs511/.local/lib/python3.9/site-packages (from jupyter-core!=5.0.*,>=4.12->ipykernel) (3.2.0)\n",
      "Requirement already satisfied: ptyprocess>=0.5 in /baie/nfs-cluster-1/mundus/wketrungs511/.local/lib/python3.9/site-packages (from pexpect>4.3->ipython>=7.23.1->ipykernel) (0.7.0)\n",
      "Requirement already satisfied: wcwidth in /baie/nfs-cluster-1/mundus/wketrungs511/.local/lib/python3.9/site-packages (from prompt-toolkit!=3.0.37,<3.1.0,>=3.0.30->ipython>=7.23.1->ipykernel) (0.2.6)\n",
      "Requirement already satisfied: six>=1.5 in /baie/nfs-cluster-1/mundus/wketrungs511/miniconda3/lib/python3.9/site-packages (from python-dateutil>=2.8.2->jupyter-client>=6.1.12->ipykernel) (1.16.0)\n",
      "Requirement already satisfied: asttokens>=2.1.0 in /baie/nfs-cluster-1/mundus/wketrungs511/.local/lib/python3.9/site-packages (from stack-data->ipython>=7.23.1->ipykernel) (2.2.1)\n",
      "Requirement already satisfied: executing>=1.2.0 in /baie/nfs-cluster-1/mundus/wketrungs511/.local/lib/python3.9/site-packages (from stack-data->ipython>=7.23.1->ipykernel) (1.2.0)\n",
      "Requirement already satisfied: pure-eval in /baie/nfs-cluster-1/mundus/wketrungs511/.local/lib/python3.9/site-packages (from stack-data->ipython>=7.23.1->ipykernel) (0.2.2)\n"
     ]
    }
   ],
   "source": [
    "!pip install ipykernel"
   ]
  }
 ],
 "metadata": {
  "kernelspec": {
   "display_name": "Python 3 (ipykernel)",
   "language": "python",
   "name": "python3"
  },
  "language_info": {
   "codemirror_mode": {
    "name": "ipython",
    "version": 3
   },
   "file_extension": ".py",
   "mimetype": "text/x-python",
   "name": "python",
   "nbconvert_exporter": "python",
   "pygments_lexer": "ipython3",
   "version": "3.9.12"
  }
 },
 "nbformat": 4,
 "nbformat_minor": 2
}
